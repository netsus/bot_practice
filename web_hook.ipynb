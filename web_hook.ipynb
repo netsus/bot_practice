{
 "cells": [
  {
   "cell_type": "code",
   "execution_count": 1,
   "id": "fe27e9a1",
   "metadata": {
    "ExecuteTime": {
     "end_time": "2022-10-25T12:07:10.843986Z",
     "start_time": "2022-10-25T12:07:10.611760Z"
    }
   },
   "outputs": [
    {
     "data": {
      "text/plain": [
       "True"
      ]
     },
     "execution_count": 1,
     "metadata": {},
     "output_type": "execute_result"
    }
   ],
   "source": [
    "import os\n",
    "import subprocess as sp\n",
    "from dotenv import load_dotenv\n",
    "from datetime import datetime\n",
    "# from tomark import Tomark\n",
    "from tabulate import tabulate\n",
    "import pandas as pd\n",
    "load_dotenv()"
   ]
  },
  {
   "cell_type": "code",
   "execution_count": 2,
   "id": "0af0d63a",
   "metadata": {
    "ExecuteTime": {
     "end_time": "2022-10-25T12:07:11.395754Z",
     "start_time": "2022-10-25T12:07:11.390613Z"
    }
   },
   "outputs": [],
   "source": [
    "NAME = os.environ.get(\"NAME\")\n",
    "API = os.environ.get(\"WEBHOOK_API\")\n",
    "\n",
    "text=\"python_test\""
   ]
  },
  {
   "cell_type": "code",
   "execution_count": 35,
   "id": "b1bec4ab",
   "metadata": {
    "ExecuteTime": {
     "end_time": "2022-10-25T12:18:47.884620Z",
     "start_time": "2022-10-25T12:18:47.865523Z"
    }
   },
   "outputs": [],
   "source": [
    "message=f'curl -s -d \"payload={{\\\\\"username\\\\\":\\\\\"{NAME}\\\\\", \\\\\"text\\\\\":\\\\\"\\`\\`\\`{df.to_markdown()}\\`\\`\\`\\\\\"}}\" \"{API}\"'\n",
    "# message"
   ]
  },
  {
   "cell_type": "code",
   "execution_count": 20,
   "id": "1c2b7e15",
   "metadata": {
    "ExecuteTime": {
     "end_time": "2022-10-25T12:14:51.498979Z",
     "start_time": "2022-10-25T12:14:50.851571Z"
    }
   },
   "outputs": [
    {
     "data": {
      "text/plain": [
       "(0, 'ok')"
      ]
     },
     "execution_count": 20,
     "metadata": {},
     "output_type": "execute_result"
    }
   ],
   "source": [
    "e,o = sp.getstatusoutput(message)\n",
    "e,o"
   ]
  },
  {
   "cell_type": "markdown",
   "id": "f381dc20",
   "metadata": {},
   "source": [
    "## 함수화"
   ]
  },
  {
   "cell_type": "code",
   "execution_count": 4,
   "id": "48b6beee",
   "metadata": {
    "ExecuteTime": {
     "end_time": "2022-10-25T12:07:15.950901Z",
     "start_time": "2022-10-25T12:07:15.940547Z"
    }
   },
   "outputs": [
    {
     "data": {
      "text/plain": [
       "{'EPOCH': 10, 'LAYERS': 100, 'DROPOUT': 0.1, 'LEARNING_RATE': 0.0001}"
      ]
     },
     "execution_count": 4,
     "metadata": {},
     "output_type": "execute_result"
    }
   ],
   "source": [
    "hyperparameter={\"EPOCH\":10, \"LAYERS\":100, \"DROPOUT\": 0.1, \"LEARNING_RATE\": 0.0001}\n",
    "hyperparameter"
   ]
  },
  {
   "cell_type": "code",
   "execution_count": 17,
   "id": "4ce1274b",
   "metadata": {
    "ExecuteTime": {
     "end_time": "2022-10-25T12:14:13.814424Z",
     "start_time": "2022-10-25T12:14:13.798982Z"
    }
   },
   "outputs": [
    {
     "data": {
      "text/plain": [
       "'|    |   EPOCH |   LAYERS |   DROPOUT |   LEARNING_RATE |\\n|---:|--------:|---------:|----------:|----------------:|\\n|  0 |      10 |      100 |       0.1 |          0.0001 |'"
      ]
     },
     "execution_count": 17,
     "metadata": {},
     "output_type": "execute_result"
    }
   ],
   "source": [
    "df.to_markdown()"
   ]
  },
  {
   "cell_type": "code",
   "execution_count": 5,
   "id": "11b89e27",
   "metadata": {
    "ExecuteTime": {
     "end_time": "2022-10-25T12:07:16.519217Z",
     "start_time": "2022-10-25T12:07:16.503749Z"
    }
   },
   "outputs": [
    {
     "data": {
      "text/plain": [
       "'\\\\+---\\\\+----\\\\+-----\\\\+-----\\\\+--------\\\\+\\n| 0 | 10 | 100 | 0.1 | 0.0001 |\\n\\\\+---\\\\+----\\\\+-----\\\\+-----\\\\+--------\\\\+'"
      ]
     },
     "execution_count": 5,
     "metadata": {},
     "output_type": "execute_result"
    }
   ],
   "source": [
    "df = pd.DataFrame([hyperparameter])\n",
    "tabulate(df, tablefmt='grid').replace('+','\\+')"
   ]
  },
  {
   "cell_type": "code",
   "execution_count": 36,
   "id": "0f1738a1",
   "metadata": {
    "ExecuteTime": {
     "end_time": "2022-10-25T12:19:04.997752Z",
     "start_time": "2022-10-25T12:19:04.979761Z"
    }
   },
   "outputs": [],
   "source": [
    "def slack_post(model, hype_param, val_loss, name=NAME, api=API):\n",
    "    now = datetime.now().strftime(\"🕐 (%Y-%m-%d %H:%M:%S)\")\n",
    "    intro=f\"[{name}] {now}\"\n",
    "    table_string = pd.DataFrame([hype_param]).to_markdown()\n",
    "    param_table = f\"\\`\\`\\`\\n{table_string}\\n\\`\\`\\`\"\n",
    "    text=f\"[{model}] Validation Loss: {val_loss:.5g}\\n{param_table}\"\n",
    "    message=f'curl -s -d \"payload={{\\\\\"text\\\\\":\\\\\"{intro}\\n{text}\\\\\"}}\" \"{api}\"'\n",
    "    e,o = sp.getstatusoutput(message)\n",
    "    if e != 0:\n",
    "        raise Exception(f\"Slack에 메시지를 보내는 과정에서 다음과 같은 에러 발생.\\n{o}\")\n",
    "    return e,o,text"
   ]
  },
  {
   "cell_type": "code",
   "execution_count": 37,
   "id": "cba81c16",
   "metadata": {
    "ExecuteTime": {
     "end_time": "2022-10-25T12:19:06.563595Z",
     "start_time": "2022-10-25T12:19:05.904523Z"
    }
   },
   "outputs": [
    {
     "data": {
      "text/plain": [
       "(0, 'ok')"
      ]
     },
     "execution_count": 37,
     "metadata": {},
     "output_type": "execute_result"
    }
   ],
   "source": [
    "e,o,text = slack_post(model=\"FM\", hype_param=hyperparameter, val_loss=0.15)\n",
    "e,o"
   ]
  },
  {
   "cell_type": "code",
   "execution_count": 38,
   "id": "34720ed0",
   "metadata": {
    "ExecuteTime": {
     "end_time": "2022-10-25T12:19:08.819196Z",
     "start_time": "2022-10-25T12:19:08.811232Z"
    }
   },
   "outputs": [
    {
     "data": {
      "text/plain": [
       "'[FM] Validation Loss: 0.15\\n\\\\`\\\\`\\\\`\\n|    |   EPOCH |   LAYERS |   DROPOUT |   LEARNING_RATE |\\n|---:|--------:|---------:|----------:|----------------:|\\n|  0 |      10 |      100 |       0.1 |          0.0001 |\\n\\\\`\\\\`\\\\`'"
      ]
     },
     "execution_count": 38,
     "metadata": {},
     "output_type": "execute_result"
    }
   ],
   "source": [
    "text"
   ]
  }
 ],
 "metadata": {
  "kernelspec": {
   "display_name": "Python 3",
   "language": "python",
   "name": "python3"
  },
  "language_info": {
   "codemirror_mode": {
    "name": "ipython",
    "version": 3
   },
   "file_extension": ".py",
   "mimetype": "text/x-python",
   "name": "python",
   "nbconvert_exporter": "python",
   "pygments_lexer": "ipython3",
   "version": "3.8.12"
  },
  "toc": {
   "base_numbering": 1,
   "nav_menu": {},
   "number_sections": false,
   "sideBar": true,
   "skip_h1_title": false,
   "title_cell": "Table of Contents",
   "title_sidebar": "Contents",
   "toc_cell": false,
   "toc_position": {},
   "toc_section_display": true,
   "toc_window_display": false
  }
 },
 "nbformat": 4,
 "nbformat_minor": 5
}
